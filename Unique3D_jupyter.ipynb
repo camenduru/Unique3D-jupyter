{
  "cells": [
    {
      "cell_type": "markdown",
      "metadata": {
        "id": "view-in-github"
      },
      "source": [
        "[![Open In Colab](https://colab.research.google.com/assets/colab-badge.svg)](https://colab.research.google.com/github/camenduru/Unique3D-jupyter/blob/main/Unique3D_jupyter.ipynb)"
      ]
    },
    {
      "cell_type": "code",
      "execution_count": null,
      "metadata": {
        "id": "VjYy0F2gZIPR"
      },
      "outputs": [],
      "source": [
        "%cd /content\n",
        "!git clone https://github.com/camenduru/Unique3D\n",
        "%cd /content/Unique3D\n",
        "\n",
        "!pip install torch==2.2.1+cu121 torchvision==0.17.1+cu121 torchaudio==2.2.1+cu121 torchtext==0.17.1 torchdata==0.7.1 --extra-index-url https://download.pytorch.org/whl/cu121\n",
        "\n",
        "!pip install fire==0.6.0 gradio==4.32.0 rembg==2.0.56 accelerate==0.29.2 datasets==2.18.0 diffusers==0.27.2 wandb==0.16.6 omegaconf==2.3.0 jaxtyping==0.2.29 pymeshlab>=2023.12 trimesh==4.3.0\n",
        "!pip install https://github.com/camenduru/wheels/releases/download/colab2/pytorch3d-0.7.6-cp310-cp310-linux_x86_64.whl\n",
        "!pip install https://github.com/camenduru/wheels/releases/download/colab2/nvdiffrast-0.3.1-py3-none-any.whl\n",
        "!pip install onnxruntime_gpu==1.17.0 pymeshlab==2023.12.post1 pygltflib==1.16.2 ninja==1.11.1.1\n",
        "!pip install https://github.com/camenduru/wheels/releases/download/colab2/torch_scatter-2.1.2-cp310-cp310-linux_x86_64.whl\n",
        "# !pip install torch_scatter==2.1.2 ort_nightly_gpu==1.17.0.dev20240118002 peft==0.10.0\n",
        "\n",
        "!apt -y install -qq aria2\n",
        "!aria2c --console-log-level=error -c -x 16 -s 16 -k 1M https://huggingface.co/camenduru/Unique3D/raw/main/controlnet-tile/config.json -d /content/Unique3D/ckpt/controlnet-tile -o config.json\n",
        "!aria2c --console-log-level=error -c -x 16 -s 16 -k 1M https://huggingface.co/camenduru/Unique3D/resolve/main/controlnet-tile/diffusion_pytorch_model.safetensors -d /content/Unique3D/ckpt/controlnet-tile -o diffusion_pytorch_model.safetensors\n",
        "!aria2c --console-log-level=error -c -x 16 -s 16 -k 1M https://huggingface.co/camenduru/Unique3D/raw/main/image2normal/feature_extractor/preprocessor_config.json -d /content/Unique3D/ckpt/image2normal/feature_extractor -o preprocessor_config.json\n",
        "!aria2c --console-log-level=error -c -x 16 -s 16 -k 1M https://huggingface.co/camenduru/Unique3D/raw/main/image2normal/image_encoder/config.json -d /content/Unique3D/ckpt/image2normal/image_encoder -o config.json\n",
        "!aria2c --console-log-level=error -c -x 16 -s 16 -k 1M https://huggingface.co/camenduru/Unique3D/resolve/main/image2normal/image_encoder/model.safetensors -d /content/Unique3D/ckpt/image2normal/image_encoder -o model.safetensors\n",
        "!aria2c --console-log-level=error -c -x 16 -s 16 -k 1M https://huggingface.co/camenduru/Unique3D/raw/main/image2normal/scheduler/scheduler_config.json -d /content/Unique3D/ckpt/image2normal/scheduler -o scheduler_config.json\n",
        "!aria2c --console-log-level=error -c -x 16 -s 16 -k 1M https://huggingface.co/camenduru/Unique3D/raw/main/image2normal/unet/config.json -d /content/Unique3D/ckpt/image2normal/unet -o config.json\n",
        "!aria2c --console-log-level=error -c -x 16 -s 16 -k 1M https://huggingface.co/camenduru/Unique3D/resolve/main/image2normal/unet/diffusion_pytorch_model.safetensors -d /content/Unique3D/ckpt/image2normal/unet -o diffusion_pytorch_model.safetensors\n",
        "!aria2c --console-log-level=error -c -x 16 -s 16 -k 1M https://huggingface.co/camenduru/Unique3D/raw/main/image2normal/vae/config.json -d /content/Unique3D/ckpt/image2normal/vae -o config.json\n",
        "!aria2c --console-log-level=error -c -x 16 -s 16 -k 1M https://huggingface.co/camenduru/Unique3D/resolve/main/image2normal/vae/diffusion_pytorch_model.safetensors -d /content/Unique3D/ckpt/image2normal/vae -o diffusion_pytorch_model.safetensors\n",
        "!aria2c --console-log-level=error -c -x 16 -s 16 -k 1M https://huggingface.co/camenduru/Unique3D/raw/main/image2normal/model_index.json -d /content/Unique3D/ckpt/image2normal -o model_index.json\n",
        "!aria2c --console-log-level=error -c -x 16 -s 16 -k 1M https://huggingface.co/camenduru/Unique3D/resolve/main/image2normal/unet_state_dict.pth -d /content/Unique3D/ckpt/image2normal -o unet_state_dict.pth\n",
        "!aria2c --console-log-level=error -c -x 16 -s 16 -k 1M https://huggingface.co/camenduru/Unique3D/raw/main/img2mvimg/feature_extractor/preprocessor_config.json -d /content/Unique3D/ckpt/img2mvimg/feature_extractor -o preprocessor_config.json\n",
        "!aria2c --console-log-level=error -c -x 16 -s 16 -k 1M https://huggingface.co/camenduru/Unique3D/raw/main/img2mvimg/image_encoder/config.json -d /content/Unique3D/ckpt/img2mvimg/image_encoder -o config.json\n",
        "!aria2c --console-log-level=error -c -x 16 -s 16 -k 1M https://huggingface.co/camenduru/Unique3D/resolve/main/img2mvimg/image_encoder/model.safetensors -d /content/Unique3D/ckpt/img2mvimg/image_encoder -o model.safetensors\n",
        "!aria2c --console-log-level=error -c -x 16 -s 16 -k 1M https://huggingface.co/camenduru/Unique3D/raw/main/img2mvimg/scheduler/scheduler_config.json -d /content/Unique3D/ckpt/img2mvimg/scheduler -o scheduler_config.json\n",
        "!aria2c --console-log-level=error -c -x 16 -s 16 -k 1M https://huggingface.co/camenduru/Unique3D/raw/main/img2mvimg/unet/config.json -d /content/Unique3D/ckpt/img2mvimg/unet -o config.json\n",
        "!aria2c --console-log-level=error -c -x 16 -s 16 -k 1M https://huggingface.co/camenduru/Unique3D/resolve/main/img2mvimg/unet/diffusion_pytorch_model.safetensors -d /content/Unique3D/ckpt/img2mvimg/unet -o diffusion_pytorch_model.safetensors\n",
        "!aria2c --console-log-level=error -c -x 16 -s 16 -k 1M https://huggingface.co/camenduru/Unique3D/raw/main/img2mvimg/vae/config.json -d /content/Unique3D/ckpt/img2mvimg/vae -o config.json\n",
        "!aria2c --console-log-level=error -c -x 16 -s 16 -k 1M https://huggingface.co/camenduru/Unique3D/resolve/main/img2mvimg/vae/diffusion_pytorch_model.safetensors -d /content/Unique3D/ckpt/img2mvimg/vae -o diffusion_pytorch_model.safetensors\n",
        "!aria2c --console-log-level=error -c -x 16 -s 16 -k 1M https://huggingface.co/camenduru/Unique3D/raw/main/img2mvimg/model_index.json -d /content/Unique3D/ckpt/img2mvimg -o model_index.json\n",
        "!aria2c --console-log-level=error -c -x 16 -s 16 -k 1M https://huggingface.co/camenduru/Unique3D/resolve/main/img2mvimg/unet_state_dict.pth -d /content/Unique3D/ckpt/img2mvimg -o unet_state_dict.pth\n",
        "!aria2c --console-log-level=error -c -x 16 -s 16 -k 1M https://huggingface.co/camenduru/Unique3D/resolve/main/realesrgan-x4.onnx -d /content/Unique3D/ckpt -o realesrgan-x4.onnx\n",
        "!aria2c --console-log-level=error -c -x 16 -s 16 -k 1M https://huggingface.co/camenduru/Unique3D/raw/main/v1-inference.yaml -d /content/Unique3D/ckpt -o v1-inference.yaml\n",
        "\n",
        "!python gradio_app.py"
      ]
    }
  ],
  "metadata": {
    "accelerator": "GPU",
    "colab": {
      "gpuType": "T4",
      "provenance": []
    },
    "kernelspec": {
      "display_name": "Python 3",
      "name": "python3"
    },
    "language_info": {
      "name": "python"
    }
  },
  "nbformat": 4,
  "nbformat_minor": 0
}
